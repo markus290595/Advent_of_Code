{
 "cells": [
  {
   "cell_type": "markdown",
   "id": "17039020",
   "metadata": {},
   "source": [
    "# Advent of Code: Tür 1"
   ]
  },
  {
   "cell_type": "markdown",
   "id": "6aa26c85",
   "metadata": {},
   "source": [
    "## Datei einlesen"
   ]
  },
  {
   "cell_type": "code",
   "execution_count": 73,
   "id": "a9fcee52",
   "metadata": {},
   "outputs": [],
   "source": [
    "with open('./input.txt', 'r') as fh:\n",
    "    txt_list = [line.strip() for line in fh]"
   ]
  },
  {
   "cell_type": "code",
   "execution_count": 136,
   "id": "9a16a988",
   "metadata": {
    "scrolled": true
   },
   "outputs": [
    {
     "data": {
      "text/plain": [
       "['hcpjssql4kjhbcqzkvr2fivebpllzqbkhg',\n",
       " '4threethreegctxg3dmbm1',\n",
       " '1lxk2hfmcgxtmps89mdvkl',\n",
       " 'sixbfjblhsjr3',\n",
       " 'soneighttwo39ktl132']"
      ]
     },
     "execution_count": 136,
     "metadata": {},
     "output_type": "execute_result"
    }
   ],
   "source": [
    "txt_list[:5]"
   ]
  },
  {
   "cell_type": "markdown",
   "id": "25f1cc7b",
   "metadata": {},
   "source": [
    "## Regex anwenden"
   ]
  },
  {
   "cell_type": "code",
   "execution_count": 75,
   "id": "1434d884",
   "metadata": {},
   "outputs": [],
   "source": [
    "import re"
   ]
  },
  {
   "cell_type": "code",
   "execution_count": 78,
   "id": "d0a9ae4d",
   "metadata": {},
   "outputs": [],
   "source": [
    "filt = r\"(\\d)\""
   ]
  },
  {
   "cell_type": "code",
   "execution_count": 131,
   "id": "285bac74",
   "metadata": {},
   "outputs": [],
   "source": [
    "calibration_list = []"
   ]
  },
  {
   "cell_type": "markdown",
   "id": "4cd21cb0",
   "metadata": {},
   "source": [
    "## durchiterieren durch Liste und ersten + letzten Wert in calibration_list abspeichern"
   ]
  },
  {
   "cell_type": "code",
   "execution_count": 132,
   "id": "2036745e",
   "metadata": {},
   "outputs": [],
   "source": [
    "for element in txt_list:\n",
    "    matches = re.findall(filt, element)\n",
    "    matches = [matches[0], matches[-1]]\n",
    "    matches = \"\".join(matches)\n",
    "    calibration_list.append(int(matches))"
   ]
  },
  {
   "cell_type": "code",
   "execution_count": 137,
   "id": "fffb0643",
   "metadata": {
    "scrolled": false
   },
   "outputs": [
    {
     "data": {
      "text/plain": [
       "[42, 41, 19, 33, 32]"
      ]
     },
     "execution_count": 137,
     "metadata": {},
     "output_type": "execute_result"
    }
   ],
   "source": [
    "calibration_list[:5]"
   ]
  },
  {
   "cell_type": "markdown",
   "id": "8f643d93",
   "metadata": {},
   "source": [
    "## aufsummieren"
   ]
  },
  {
   "cell_type": "code",
   "execution_count": 135,
   "id": "7cf986fc",
   "metadata": {},
   "outputs": [
    {
     "data": {
      "text/plain": [
       "55816"
      ]
     },
     "execution_count": 135,
     "metadata": {},
     "output_type": "execute_result"
    }
   ],
   "source": [
    "sum(calibration_list)"
   ]
  }
 ],
 "metadata": {
  "kernelspec": {
   "display_name": "Python 3 (ipykernel)",
   "language": "python",
   "name": "python3"
  },
  "language_info": {
   "codemirror_mode": {
    "name": "ipython",
    "version": 3
   },
   "file_extension": ".py",
   "mimetype": "text/x-python",
   "name": "python",
   "nbconvert_exporter": "python",
   "pygments_lexer": "ipython3",
   "version": "3.11.3"
  }
 },
 "nbformat": 4,
 "nbformat_minor": 5
}
