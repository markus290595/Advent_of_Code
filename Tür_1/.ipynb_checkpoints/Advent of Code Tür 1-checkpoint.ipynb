{
 "cells": [
  {
   "cell_type": "markdown",
   "id": "17039020",
   "metadata": {},
   "source": [
    "# Advent of Code: Tür 1"
   ]
  },
  {
   "cell_type": "markdown",
   "id": "9df77585",
   "metadata": {},
   "source": [
    "# Teil 1"
   ]
  },
  {
   "cell_type": "markdown",
   "id": "6aa26c85",
   "metadata": {},
   "source": [
    "## Datei einlesen"
   ]
  },
  {
   "cell_type": "code",
   "execution_count": 120,
   "id": "a9fcee52",
   "metadata": {},
   "outputs": [],
   "source": [
    "with open('./input_2.txt', 'r') as fh:\n",
    "    txt_list = [line.strip() for line in fh]"
   ]
  },
  {
   "cell_type": "code",
   "execution_count": 121,
   "id": "9a16a988",
   "metadata": {
    "scrolled": true
   },
   "outputs": [
    {
     "data": {
      "text/plain": [
       "['hcpjssql4kjhbcqzkvr2fivebpllzqbkhg',\n",
       " '4threethreegctxg3dmbm1',\n",
       " '1lxk2hfmcgxtmps89mdvkl',\n",
       " 'sixbfjblhsjr3',\n",
       " 'soneighttwo39ktl132']"
      ]
     },
     "execution_count": 121,
     "metadata": {},
     "output_type": "execute_result"
    }
   ],
   "source": [
    "txt_list[:5]"
   ]
  },
  {
   "cell_type": "markdown",
   "id": "25f1cc7b",
   "metadata": {},
   "source": [
    "## Regex anwenden"
   ]
  },
  {
   "cell_type": "code",
   "execution_count": 122,
   "id": "1434d884",
   "metadata": {},
   "outputs": [],
   "source": [
    "import re"
   ]
  },
  {
   "cell_type": "code",
   "execution_count": 123,
   "id": "d0a9ae4d",
   "metadata": {},
   "outputs": [],
   "source": [
    "filt = r\"(\\d)\""
   ]
  },
  {
   "cell_type": "code",
   "execution_count": 146,
   "id": "285bac74",
   "metadata": {},
   "outputs": [],
   "source": [
    "calibration_list = []"
   ]
  },
  {
   "cell_type": "markdown",
   "id": "4cd21cb0",
   "metadata": {},
   "source": [
    "## durchiterieren durch Liste und ersten + letzten Wert in calibration_list abspeichern"
   ]
  },
  {
   "cell_type": "code",
   "execution_count": 147,
   "id": "2036745e",
   "metadata": {},
   "outputs": [],
   "source": [
    "for element in txt_list:\n",
    "    matches = re.findall(filt, element)\n",
    "    matches = [matches[0], matches[-1]]\n",
    "    matches = \"\".join(matches)\n",
    "    calibration_list.append(int(matches))"
   ]
  },
  {
   "cell_type": "code",
   "execution_count": 148,
   "id": "fffb0643",
   "metadata": {
    "scrolled": true
   },
   "outputs": [
    {
     "data": {
      "text/plain": [
       "[42, 41, 19, 33, 32]"
      ]
     },
     "execution_count": 148,
     "metadata": {},
     "output_type": "execute_result"
    }
   ],
   "source": [
    "calibration_list[:5]"
   ]
  },
  {
   "cell_type": "code",
   "execution_count": 149,
   "id": "dccd888d",
   "metadata": {},
   "outputs": [
    {
     "data": {
      "text/plain": [
       "22"
      ]
     },
     "execution_count": 149,
     "metadata": {},
     "output_type": "execute_result"
    }
   ],
   "source": [
    "calibration_list[-34]"
   ]
  },
  {
   "cell_type": "markdown",
   "id": "8f643d93",
   "metadata": {},
   "source": [
    "## aufsummieren"
   ]
  },
  {
   "cell_type": "code",
   "execution_count": 127,
   "id": "7cf986fc",
   "metadata": {},
   "outputs": [
    {
     "data": {
      "text/plain": [
       "55816"
      ]
     },
     "execution_count": 127,
     "metadata": {},
     "output_type": "execute_result"
    }
   ],
   "source": [
    "sum(calibration_list)"
   ]
  },
  {
   "cell_type": "markdown",
   "id": "88531744",
   "metadata": {},
   "source": [
    "# Teil 2"
   ]
  },
  {
   "cell_type": "markdown",
   "id": "cc9c386a",
   "metadata": {},
   "source": [
    "## Dictionary anlegen für Zahlenwerte"
   ]
  },
  {
   "cell_type": "code",
   "execution_count": 203,
   "id": "6bd5bb15",
   "metadata": {},
   "outputs": [],
   "source": [
    "num_dict = {\n",
    "    \"one\": 1,\n",
    "    \"two\": 2,\n",
    "    \"three\": 3,\n",
    "    \"four\": 4,\n",
    "    \"five\": 5,\n",
    "    \"six\": 6, \n",
    "    \"seven\": 7,\n",
    "    \"eight\": 8,\n",
    "    \"nine\": 9\n",
    "}"
   ]
  },
  {
   "cell_type": "markdown",
   "id": "753395ef",
   "metadata": {},
   "source": [
    "## dem Filter hinzufügen und Filter anpassen"
   ]
  },
  {
   "cell_type": "code",
   "execution_count": 204,
   "id": "c9f55400",
   "metadata": {},
   "outputs": [],
   "source": [
    "for element in list(num_dict.keys()):\n",
    "    filt += (f\"|({element})\")"
   ]
  },
  {
   "cell_type": "code",
   "execution_count": 205,
   "id": "ee2f5a01",
   "metadata": {},
   "outputs": [
    {
     "data": {
      "text/plain": [
       "'(?=(\\\\d)|(one)|(two)|(three)|(four)|(five)|(six)|(seven)|(eight)|(nine))|(one)|(two)|(three)|(four)|(five)|(six)|(seven)|(eight)|(nine)'"
      ]
     },
     "execution_count": 205,
     "metadata": {},
     "output_type": "execute_result"
    }
   ],
   "source": [
    "filt"
   ]
  },
  {
   "cell_type": "code",
   "execution_count": 206,
   "id": "e6bacb38",
   "metadata": {},
   "outputs": [],
   "source": [
    "filt = '(?=(\\d)|(one)|(two)|(three)|(four)|(five)|(six)|(seven)|(eight)|(nine))'"
   ]
  },
  {
   "cell_type": "markdown",
   "id": "98182fa9",
   "metadata": {},
   "source": [
    "Lookahead assertion \"?=\":\n",
    "\n",
    "Damit wird bei z.B. \"eightwoonenine\": eight, two, one und nine erkannt - ohne würde two nicht erkannt werden\n",
    "\n",
    "https://docs.python.org/3/library/re.html"
   ]
  },
  {
   "cell_type": "markdown",
   "id": "38d1ddbd",
   "metadata": {},
   "source": [
    "## durchiterieren durch Elemente und anfügen der ersten und letzten Zahlen "
   ]
  },
  {
   "cell_type": "code",
   "execution_count": 216,
   "id": "608762ca",
   "metadata": {},
   "outputs": [],
   "source": [
    "calibration_list = []"
   ]
  },
  {
   "cell_type": "code",
   "execution_count": 217,
   "id": "8d7a1043",
   "metadata": {
    "scrolled": false
   },
   "outputs": [],
   "source": [
    "for element in txt_list:\n",
    "    matches = re.findall(filt, element)\n",
    "\n",
    "    # erstes und letztes Element festlegen\n",
    "    first_element=\"\".join(matches[0])\n",
    "    last_element=\"\".join(matches[-1])\n",
    "    \n",
    "    # falls string - suche nach key in num_dict\n",
    "    if first_element in list(num_dict.keys()):\n",
    "        first_element=str(num_dict[first_element])\n",
    "\n",
    "    # falls string - suche nach key in num_dict\n",
    "    if last_element in list(num_dict.keys()):\n",
    "        last_element=str(num_dict[last_element])\n",
    "\n",
    "    # kombinieren des ersten und letzten Elements\n",
    "    combined = first_element + last_element\n",
    "\n",
    "    calibration_list.append(int(combined))"
   ]
  },
  {
   "cell_type": "markdown",
   "id": "d79a1300",
   "metadata": {},
   "source": [
    "## Summe bilden"
   ]
  },
  {
   "cell_type": "code",
   "execution_count": 212,
   "id": "745879da",
   "metadata": {},
   "outputs": [
    {
     "data": {
      "text/plain": [
       "54980"
      ]
     },
     "execution_count": 212,
     "metadata": {},
     "output_type": "execute_result"
    }
   ],
   "source": [
    "sum(calibration_list)"
   ]
  },
  {
   "cell_type": "code",
   "execution_count": null,
   "id": "4e5cda2d",
   "metadata": {},
   "outputs": [],
   "source": []
  },
  {
   "cell_type": "code",
   "execution_count": null,
   "id": "220f29d5",
   "metadata": {},
   "outputs": [],
   "source": []
  },
  {
   "cell_type": "code",
   "execution_count": null,
   "id": "09703972",
   "metadata": {},
   "outputs": [],
   "source": []
  },
  {
   "cell_type": "code",
   "execution_count": null,
   "id": "2b25eb10",
   "metadata": {},
   "outputs": [],
   "source": []
  },
  {
   "cell_type": "code",
   "execution_count": null,
   "id": "0df5d6bf",
   "metadata": {},
   "outputs": [],
   "source": []
  },
  {
   "cell_type": "code",
   "execution_count": null,
   "id": "8c1fcd47",
   "metadata": {},
   "outputs": [],
   "source": []
  },
  {
   "cell_type": "code",
   "execution_count": null,
   "id": "49e8a46c",
   "metadata": {},
   "outputs": [],
   "source": []
  },
  {
   "cell_type": "code",
   "execution_count": null,
   "id": "677136b9",
   "metadata": {},
   "outputs": [],
   "source": []
  },
  {
   "cell_type": "code",
   "execution_count": null,
   "id": "fc3db517",
   "metadata": {},
   "outputs": [],
   "source": []
  }
 ],
 "metadata": {
  "kernelspec": {
   "display_name": "Python 3 (ipykernel)",
   "language": "python",
   "name": "python3"
  },
  "language_info": {
   "codemirror_mode": {
    "name": "ipython",
    "version": 3
   },
   "file_extension": ".py",
   "mimetype": "text/x-python",
   "name": "python",
   "nbconvert_exporter": "python",
   "pygments_lexer": "ipython3",
   "version": "3.11.3"
  }
 },
 "nbformat": 4,
 "nbformat_minor": 5
}
